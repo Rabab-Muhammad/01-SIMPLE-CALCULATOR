{
  "nbformat": 4,
  "nbformat_minor": 0,
  "metadata": {
    "colab": {
      "provenance": [],
      "authorship_tag": "ABX9TyPxn+QF9sXG5HF16c6cieGE",
      "include_colab_link": true
    },
    "kernelspec": {
      "name": "python3",
      "display_name": "Python 3"
    },
    "language_info": {
      "name": "python"
    }
  },
  "cells": [
    {
      "cell_type": "markdown",
      "metadata": {
        "id": "view-in-github",
        "colab_type": "text"
      },
      "source": [
        "<a href=\"https://colab.research.google.com/github/Rabab-Muhammad/01-SIMPLE-CALCULATOR/blob/main/Q3_Assignment_4.ipynb\" target=\"_parent\"><img src=\"https://colab.research.google.com/assets/colab-badge.svg\" alt=\"Open In Colab\"/></a>"
      ]
    },
    {
      "cell_type": "markdown",
      "source": [
        "**List Methods Practice**\n",
        "\n",
        "Tasks:\n",
        "1. Create and Modify Lists\n",
        "\n",
        " o Create a list called fruits with the items: \"apple\", \"banana\", \"orange\"\n",
        "\n",
        " o Add \"grape\" to the end of the list using an appropriate method\n",
        "\n",
        " o Insert \"mango\" at position 2 in the list\n",
        "\n",
        " o Remove \"banana\" from the list\n",
        "\n",
        " o Print the final list"
      ],
      "metadata": {
        "id": "pZ4bcnuyl7Ep"
      }
    },
    {
      "cell_type": "code",
      "source": [
        "# 1. Create and Modify Lists\n",
        "fruits = [\"apple\",\"banana\",\"orange\"]\n",
        "fruits.append(\"grape\")\n",
        "fruits.insert(2,\"mango\")\n",
        "fruits.remove(\"banana\")\n",
        "print(\"Final Fruits List:\",fruits)\n"
      ],
      "metadata": {
        "id": "1cYSWR6gl8iX",
        "colab": {
          "base_uri": "https://localhost:8080/"
        },
        "outputId": "51681ea3-1e56-4ec8-b208-1b95ac26e55a"
      },
      "execution_count": null,
      "outputs": [
        {
          "output_type": "stream",
          "name": "stdout",
          "text": [
            "Final Fruits List: ['apple', 'mango', 'orange', 'grape']\n"
          ]
        }
      ]
    },
    {
      "cell_type": "markdown",
      "source": [
        "2. List Operations  \n",
        "\n",
        " o Create a list numbers with values: 10, 20, 30, 40, 50\n",
        "\n",
        " o Create a second list more_numbers with values: 60, 70, 80\n",
        "\n",
        " o Combine both lists into a new list called all_numbers\n",
        "\n",
        " o Make a copy of all_numbers called numbers_copy\n",
        "\n",
        " o Reverse the order of numbers_copy\n",
        "\n",
        " o Print both all_numbers and numbers_copy"
      ],
      "metadata": {
        "id": "GoPjGpwVoFL2"
      }
    },
    {
      "cell_type": "code",
      "source": [
        "# 2. List Operations\n",
        "numbers = [10,20,30,40,50]\n",
        "more_numbers = [60,70,80]\n",
        "all_numbers = numbers + more_numbers\n",
        "numbers_copy = all_numbers.copy()\n",
        "numbers_copy.reverse()\n",
        "print(\"All Numbers:\",all_numbers)\n",
        "print(\"Numbers Copy:\",numbers_copy)\n"
      ],
      "metadata": {
        "id": "vM-rc1eaoUAU",
        "colab": {
          "base_uri": "https://localhost:8080/"
        },
        "outputId": "31602078-ec89-44b6-d0bb-7c0a3ffbaa19"
      },
      "execution_count": null,
      "outputs": [
        {
          "output_type": "stream",
          "name": "stdout",
          "text": [
            "All Numbers: [10, 20, 30, 40, 50, 60, 70, 80]\n",
            "Numbers Copy: [80, 70, 60, 50, 40, 30, 20, 10]\n"
          ]
        }
      ]
    },
    {
      "cell_type": "markdown",
      "source": [
        "3. Sorting and Counting  \n",
        "\n",
        " o Create a list scores with these values: 85, 92, 78, 65, 92, 85, 74\n",
        "\n",
        " o Sort the list in ascending order\n",
        "\n",
        " o Sort the list in descending order\n",
        "\n",
        " o Count how many times 92 appears in the list\n",
        "\n",
        " o Find and print the highest and lowest scores\n",
        "\n",
        " o Print the sorted list"
      ],
      "metadata": {
        "id": "HI4ooBWZyV8k"
      }
    },
    {
      "cell_type": "code",
      "source": [
        "# 3. Sorting and Counting\n",
        "scores = [85,92,78,65,92,85,74]\n",
        "ascending_scores = sorted(scores)\n",
        "descending_scores = sorted(scores, reverse=True)\n",
        "count_92 = scores.count(92)\n",
        "highest_score = max(scores)\n",
        "lowest_score = min(scores)\n",
        "print(\"Ascending Scores:\",ascending_scores)\n",
        "print(\"Descending Scores:\",descending_scores)\n",
        "print(\"Count of 92:\",count_92)\n",
        "print(\"Highest Score:\",highest_score)\n",
        "print(\"Lowest Score:\",lowest_score)\n"
      ],
      "metadata": {
        "id": "ovfXE9S_yirb",
        "colab": {
          "base_uri": "https://localhost:8080/"
        },
        "outputId": "17e2e044-2912-4339-c039-5959a30b8d77"
      },
      "execution_count": null,
      "outputs": [
        {
          "output_type": "stream",
          "name": "stdout",
          "text": [
            "Ascending Scores: [65, 74, 78, 85, 85, 92, 92]\n",
            "Descending Scores: [92, 92, 85, 85, 78, 74, 65]\n",
            "Count of 92: 2\n",
            "Highest Score: 92\n",
            "Lowest Score: 65\n"
          ]
        }
      ]
    },
    {
      "cell_type": "markdown",
      "source": [
        "4. List Manipulation  \n",
        "\n",
        " o Create a list letters with values: \"a\", \"b\", \"c\", \"d\", \"e\"\n",
        "\n",
        " o Use slicing to create a new list with only the first three letters\n",
        "\n",
        " o Use slicing to create another list with only the last two letters\n",
        "\n",
        " o Find and print the index of \"c\" in the list\n",
        "\n",
        " o Replace \"d\" with \"z\" in the original list\n",
        "  \n",
        " o Print the modified list"
      ],
      "metadata": {
        "id": "zBHHbVMD3Rtt"
      }
    },
    {
      "cell_type": "code",
      "source": [
        "# 4. List Manipulation\n",
        "letters = [\"a\",\"b\",\"c\",\"d\",\"e\"]\n",
        "first_three_letters = letters[:3]\n",
        "last_two_letters = letters[-2:]\n",
        "index_c = letters.index(\"c\")\n",
        "letters[3] = \"z\"\n",
        "print(\"First three Letters:\",first_three_letters)\n",
        "print(\"Last two Letters:\",last_two_letters)\n",
        "print(\"Index of 'c':\",index_c)\n",
        "print(\"Modified list:\",letters)\n"
      ],
      "metadata": {
        "id": "j91wHW7f3dZ5",
        "colab": {
          "base_uri": "https://localhost:8080/"
        },
        "outputId": "29b058c8-0c21-4430-9acd-f7fb996dd4b8"
      },
      "execution_count": null,
      "outputs": [
        {
          "output_type": "stream",
          "name": "stdout",
          "text": [
            "First three Letters: ['a', 'b', 'c']\n",
            "Last two Letters: ['d', 'e']\n",
            "Index of 'c': 2\n",
            "Modified list: ['a', 'b', 'c', 'z', 'e']\n"
          ]
        }
      ]
    },
    {
      "cell_type": "markdown",
      "source": [
        "**Dictionary Methods Practice**\n",
        "\n",
        "Tasks:\n",
        "1. Create and Access Dictionaries  \n",
        "\n",
        " o Create a dictionary called student with these key-value pairs:  \n",
        "\n",
        "  \"name\": \"John\"\n",
        "\n",
        "  \"age\": 20\n",
        "\n",
        "  \"grade\": \"A\"\n",
        "\n",
        "  \"courses\": [\"Math\", \"Science\", \"History\"]\n",
        "\n",
        " o Print the student's name\n",
        "\n",
        " o Print the list of courses\n",
        "\n",
        " o Add a new key-value pair: \"email\": \"john@example.com\"\n",
        "\n",
        " o Print the entire dictionary"
      ],
      "metadata": {
        "id": "QJTg-GWq9BHY"
      }
    },
    {
      "cell_type": "code",
      "source": [
        "# 1. Create and Access Dictionaries\n",
        "student = {\n",
        "    \"name\" : \"John\",\n",
        "    \"age\" : 20,\n",
        "    \"grade\" : \"A\",\n",
        "    \"courses\" : [\"Math\",\"Science\",\"History\"]\n",
        "}\n",
        "\n",
        "print(\"Student's Name:\",student[\"name\"])\n",
        "print(\"List of Courses:\",student[\"courses\"])\n",
        "student[\"email\"] = \"john@example.com\"\n",
        "print(\"Updated Student Dictionary:\",student)\n"
      ],
      "metadata": {
        "id": "PG63lakTIOon",
        "colab": {
          "base_uri": "https://localhost:8080/"
        },
        "outputId": "b9ad0fce-84fc-4ec1-c607-22530c803366"
      },
      "execution_count": null,
      "outputs": [
        {
          "output_type": "stream",
          "name": "stdout",
          "text": [
            "Student's Name: John\n",
            "List of Courses: ['Math', 'Science', 'History']\n",
            "Updated Student Dictionary: {'name': 'John', 'age': 20, 'grade': 'A', 'courses': ['Math', 'Science', 'History'], 'email': 'john@example.com'}\n"
          ]
        }
      ]
    },
    {
      "cell_type": "markdown",
      "source": [
        "2. Modify Dictionary Values\n",
        "\n",
        " o Change the student's age to 21\n",
        "\n",
        " o Add a new course \"Computer Science\" to the courses list\n",
        "\n",
        " o Update the grade to \"A+\"\n",
        "\n",
        " o Print the modified dictionary"
      ],
      "metadata": {
        "id": "tq_POWNGCR5b"
      }
    },
    {
      "cell_type": "code",
      "source": [
        "# 2. Modify Dictionary Values\n",
        "student[\"age\"] = 21\n",
        "student[\"courses\"].append(\"Computer Science\")\n",
        "student[\"grade\"] = \"A+\"\n",
        "print(\"Modified Student Dictionary:\",student)\n"
      ],
      "metadata": {
        "id": "_AekcBmGITay",
        "colab": {
          "base_uri": "https://localhost:8080/"
        },
        "outputId": "424aa9ed-4b8e-4a5a-e6a4-f4547aa2769a"
      },
      "execution_count": null,
      "outputs": [
        {
          "output_type": "stream",
          "name": "stdout",
          "text": [
            "Modified Student Dictionary: {'name': 'John', 'age': 21, 'grade': 'A+', 'courses': ['Math', 'Science', 'History', 'Computer Science', 'Computer Science'], 'email': 'john@example.com'}\n"
          ]
        }
      ]
    },
    {
      "cell_type": "markdown",
      "source": [
        "3. Dictionary Operations  \n",
        "\n",
        " o Create a second dictionary student_address with these key-value pairs:  \n",
        "\n",
        "  \"street\": \"123 College Ave\"\n",
        "\n",
        "  \"city\": \"New York\"\n",
        "\n",
        "  \"zip\": \"10001\"\n",
        "\n",
        " o Combine both dictionaries into a new dictionary called student_info\n",
        "\n",
        " o Remove the \"zip\" key from student_info\n",
        "\n",
        " o Check if \"phone\" exists in the dictionary\n",
        "\n",
        " o Print the final dictionary"
      ],
      "metadata": {
        "id": "PLhzrRxqGV6v"
      }
    },
    {
      "cell_type": "code",
      "source": [
        "# 3. Dictionary Operations\n",
        "student = {\n",
        "    'name': 'John',\n",
        "     'age': 21,\n",
        "     'grade': 'A+',\n",
        "     'courses': ['Math', 'Science', 'History', 'Computer Science'],\n",
        "     'email': 'john@example.com'\n",
        "     }\n",
        "\n",
        "student_address = {\n",
        "    \"street\" : \"123 College Ave\",\n",
        "    \"city\" : \"NewYork\",\n",
        "    \"zip\" : \"10001\"\n",
        "}\n",
        "\n",
        "student_info = {**student,**student_address}\n",
        "student_info.pop(\"zip\",None)\n",
        "phone_exists = \"phone\" in student_info\n",
        "print(\"Does 'phone' exist in student_info?\",phone_exists)\n",
        "print(\"Final Student Info:\",student_info)\n"
      ],
      "metadata": {
        "id": "KJfmC4SiId76",
        "colab": {
          "base_uri": "https://localhost:8080/"
        },
        "outputId": "aae806e5-3cf4-40b4-e49e-09c21e457b53"
      },
      "execution_count": null,
      "outputs": [
        {
          "output_type": "stream",
          "name": "stdout",
          "text": [
            "Does 'phone' exist in student_info? False\n",
            "Final Student Info: {'name': 'John', 'age': 21, 'grade': 'A+', 'courses': ['Math', 'Science', 'History', 'Computer Science'], 'email': 'john@example.com', 'street': '123 College Ave', 'city': 'NewYork'}\n"
          ]
        }
      ]
    },
    {
      "cell_type": "markdown",
      "source": [
        "4. Dictionary Methods  \n",
        "\n",
        " o Create a dictionary word_count with these key-value pairs:\n",
        "\n",
        "  \"hello\": 5\n",
        "\n",
        "  \"world\": 10\n",
        "\n",
        "  \"python\": 15\n",
        "\n",
        " o Get all keys and print them as a list\n",
        "\n",
        " o Get all values and print them as a list\n",
        "\n",
        " o Get all key-value pairs and print them\n",
        "\n",
        " o Make a copy of the dictionary\n",
        "\n",
        " o Clear the original dictionary\n",
        "\n",
        " o Print both dictionaries to verify one is empty and one is a copy"
      ],
      "metadata": {
        "id": "MbwPIe6fM9eT"
      }
    },
    {
      "cell_type": "code",
      "source": [
        "# 4. Dictionary Methods\n",
        "\n",
        "word_count = {\n",
        "    \"hello\" : 3,\n",
        "    \"world\" : 10,\n",
        "    \"python\" : 15\n",
        "}\n",
        "\n",
        "keys = list(word_count.keys())\n",
        "print(\"Keys as a list:\",keys)\n",
        "\n",
        "values = list(word_count.values())\n",
        "print(\"Values as a list:\",values)\n",
        "\n",
        "items = list(word_count.items())\n",
        "print(\"key-value pairs:\",items)\n",
        "\n",
        "word_count_copy = word_count.copy()\n",
        "\n",
        "word_count.clear()\n",
        "\n",
        "print(\"Original Dictionary after clear():\",word_count)\n",
        "print(\"Copy of Dictionary:\",word_count_copy)\n"
      ],
      "metadata": {
        "id": "wwNpIwGzNPvX",
        "colab": {
          "base_uri": "https://localhost:8080/"
        },
        "outputId": "3a891c42-0261-4054-80e7-3ec894cd84b1"
      },
      "execution_count": null,
      "outputs": [
        {
          "output_type": "stream",
          "name": "stdout",
          "text": [
            "Keys as a list: ['hello', 'world', 'python']\n",
            "Values as a list: [3, 10, 15]\n",
            "key-value pairs: [('hello', 3), ('world', 10), ('python', 15)]\n",
            "Original Dictionary after clear(): {}\n",
            "Copy of Dictionary: {'hello': 3, 'world': 10, 'python': 15}\n"
          ]
        }
      ]
    },
    {
      "cell_type": "markdown",
      "source": [
        "**Shopping Discount Calculator**\n",
        "\n",
        "Tasks\n",
        "1. Set up the initial variables:\n",
        "\n",
        " o purchase_amount: The total cost of items in the shopping cart\n",
        "\n",
        " o is_loyalty_member: Boolean (True/False) indicating if the customer is a\n",
        "   loyalty member\n",
        "\n",
        " o day_of_week: A string with the current day (e.g., \"Monday\", \"Tuesday\", etc.)\n",
        "  \n",
        " o is_holiday_season: Boolean indicating if it's currently a holiday shopping\n",
        "season"
      ],
      "metadata": {
        "id": "OqBmfPcgRZdB"
      }
    },
    {
      "cell_type": "code",
      "source": [
        "# Step 1: Set up the initial variables\n",
        "purchase_amount = 120.00\n",
        "is_loyalty_member = True\n",
        "day_of_week = \"Saturday\"\n",
        "is_holiday_season = True\n",
        "\n",
        "# Store the original amount before applying discounts\n",
        "original_amount = purchase_amount\n",
        "\n",
        "# Initialize total discount\n",
        "total_discount = 0.0\n",
        "\n"
      ],
      "metadata": {
        "id": "b2QiHdzjR0u_"
      },
      "execution_count": null,
      "outputs": []
    },
    {
      "cell_type": "markdown",
      "source": [
        "2. Apply discount rules using if statements:  \n",
        " o If purchase amount is greater than $100, apply a 10% discount\n",
        "\n",
        " o If purchase amount is greater than 50 (but less than or equal to $100),\n",
        "apply a 5% discount\n",
        "\n",
        " o If the customer is a loyalty member, apply an additional 5% discount\n",
        "\n",
        " o If it's a weekend (Saturday or Sunday), apply an additional 2% discount\n",
        "\n",
        " o If it's a holiday season, apply an additional 8% discount\n",
        "\n",
        "3. Calculate and display:  \n",
        " o The original purchase amount\n",
        "\n",
        " o Each discount that was applied and its amount\n",
        "\n",
        " o The final price after all discounts"
      ],
      "metadata": {
        "id": "QrnppHW3TYoY"
      }
    },
    {
      "cell_type": "code",
      "source": [
        "# Step 2: Apply discount rules using if statements\n",
        "\n",
        "# Discount based on purchase amount\n",
        "if purchase_amount > 100:\n",
        "    discount = purchase_amount * 0.10  # 10% discount\n",
        "    print(\"10% Discount for purchase over $100 applied: $\", round(discount, 2))\n",
        "    total_discount += discount\n",
        "elif purchase_amount > 50:\n",
        "    discount = purchase_amount * 0.05  # 5% discount\n",
        "    print(\"5% Discount for purchase over $50 applied: $\", round(discount, 2))\n",
        "    total_discount += discount\n",
        "\n",
        "# Loyalty member discount\n",
        "if is_loyalty_member:\n",
        "    loyalty_discount = purchase_amount * 0.05  # Additional 5% discount\n",
        "    print(\"5% Loyalty Member Discount Applied: $\", round(discount, 2))\n",
        "    total_discount += loyalty_discount\n",
        "\n",
        "# Weekend discount\n",
        "if day_of_week == \"Saturday\" or day_of_week == \"Sunday\":\n",
        "    weekend_discount = purchase_amount * 0.02  # Additional 2% discount\n",
        "    print(\"2% Weekend Discount Applied: $\", round(discount, 2))\n",
        "    total_discount += weekend_discount\n",
        "\n",
        "# Holiday season discount\n",
        "if is_holiday_season:\n",
        "    holiday_discount = purchase_amount * 0.08  # Additional 8% discount\n",
        "    print(\"8% Holiday Discount Applied: $\", round(discount, 2))\n",
        "    total_discount += holiday_discount\n",
        "\n",
        "# Step 3: Calculate final price and display summary\n",
        "final_price = purchase_amount - total_discount\n",
        "\n",
        "print(\"\\n======================\")\n",
        "print(\"Original Purchase Amount: $\", round(original_amount, 2))\n",
        "print(\"Total Discount Applied:   $\", round(total_discount, 2))\n",
        "print(\"Final Price After Discount: $\", round(final_price, 2))"
      ],
      "metadata": {
        "colab": {
          "base_uri": "https://localhost:8080/"
        },
        "id": "MTxl2KddUhLM",
        "outputId": "fdcea7c2-bf68-4b3f-e42c-e78179dfe3e5"
      },
      "execution_count": null,
      "outputs": [
        {
          "output_type": "stream",
          "name": "stdout",
          "text": [
            "10% Discount for purchase over $100 applied: $ 12.0\n",
            "5% Loyalty Member Discount Applied: $ 12.0\n",
            "2% Weekend Discount Applied: $ 12.0\n",
            "8% Holiday Discount Applied: $ 12.0\n",
            "\n",
            "======================\n",
            "Original Purchase Amount: $ 120.0\n",
            "Total Discount Applied:   $ 30.0\n",
            "Final Price After Discount: $ 90.0\n"
          ]
        }
      ]
    },
    {
      "cell_type": "markdown",
      "source": [
        "**For Loop Assignment - Number Patterns**\n",
        "\n",
        "Write a Python program that generates the following patterns using for loops:\n",
        "\n",
        "Pattern 1: Counting Numbers\n",
        "\n",
        " o Print numbers from 1 to 10 on a single line.\n"
      ],
      "metadata": {
        "id": "4fOb1Wz131ZT"
      }
    },
    {
      "cell_type": "code",
      "source": [
        "# Pattern 1: Counting Numbers\n",
        "for i in range(1,11):\n",
        "  print(i,end=\" \") # end=\" \" keeps the numbers on the same line"
      ],
      "metadata": {
        "id": "ObD6OwHR2XFS",
        "colab": {
          "base_uri": "https://localhost:8080/"
        },
        "outputId": "b8ba4bfd-f474-4694-bcbc-e926e077a110"
      },
      "execution_count": null,
      "outputs": [
        {
          "output_type": "stream",
          "name": "stdout",
          "text": [
            "1 2 3 4 5 6 7 8 9 10 "
          ]
        }
      ]
    },
    {
      "cell_type": "markdown",
      "source": [
        "Pattern 2: Multiplication Table  \n",
        " Create a multiplication table for the number 5 (from 1 to 10)."
      ],
      "metadata": {
        "id": "vIBCzAbm24Pw"
      }
    },
    {
      "cell_type": "code",
      "source": [
        "# Pattern 2: Multiplication Table\n",
        "print(\"Multiplication Table for 5:\")\n",
        "for i in range(1,11):\n",
        "  print(f\" 5 x {i} = {5 * i}\")"
      ],
      "metadata": {
        "id": "AKJeEBqs3vHa",
        "colab": {
          "base_uri": "https://localhost:8080/"
        },
        "outputId": "f455c5ca-5fa3-40f3-fc30-89f11ec65df3"
      },
      "execution_count": null,
      "outputs": [
        {
          "output_type": "stream",
          "name": "stdout",
          "text": [
            "Multiplication Table for 5:\n",
            " 5 x 1 = 5\n",
            " 5 x 2 = 10\n",
            " 5 x 3 = 15\n",
            " 5 x 4 = 20\n",
            " 5 x 5 = 25\n",
            " 5 x 6 = 30\n",
            " 5 x 7 = 35\n",
            " 5 x 8 = 40\n",
            " 5 x 9 = 45\n",
            " 5 x 10 = 50\n"
          ]
        }
      ]
    },
    {
      "cell_type": "markdown",
      "source": [
        "**While Loop Assignment - Interactive Game**\n",
        "\n",
        "Write a Python program that:\n",
        "1. Sets a \"secret number\" (you can choose any number between 1 and 50)\n",
        "2. Asks the player to guess the number\n",
        "3. Tells the player if their guess is too high or too low\n",
        "4. Keeps asking until the player guesses correctly\n",
        "5. Keeps track of how many guesses it took"
      ],
      "metadata": {
        "id": "x5zdZqbh40vC"
      }
    },
    {
      "cell_type": "code",
      "source": [
        "# Secret Number Guessing Game\n",
        "secret_number = 24  # (you can choose any number between 1 and 50)\n",
        "guess = None\n",
        "guess_count = 0\n",
        "\n",
        "print(\"Welcome to the Secret Number Guessing Game!\")\n",
        "print(\"Guess the secret number between 1 to 50\")\n",
        "\n",
        "while guess != secret_number:\n",
        "  guess = int(input(\"Enter your guess:\"))\n",
        "  guess_count += 1\n",
        "\n",
        "  if guess < secret_number:\n",
        "    print(\"Too low! Try again.\")\n",
        "  elif guess > secret_number:\n",
        "    print(\"Too high! Try again.\")\n",
        "  else:\n",
        "    print(f\"Congratulations! You guessed the secret number {secret_number} correctly in {guess_count} attempts.\")\n",
        "\n"
      ],
      "metadata": {
        "id": "wYluPQ7y5AqZ",
        "colab": {
          "base_uri": "https://localhost:8080/"
        },
        "outputId": "d6fd42fb-6540-4da6-d224-b75624ca6852"
      },
      "execution_count": null,
      "outputs": [
        {
          "output_type": "stream",
          "name": "stdout",
          "text": [
            "Welcome to the Secret Number Guessing Game!\n",
            "Guess the secret number between 1 to 50\n",
            "Enter your guess:10\n",
            "Too low! Try again.\n",
            "Enter your guess:20\n",
            "Too low! Try again.\n",
            "Enter your guess:30\n",
            "Too high! Try again.\n",
            "Enter your guess:25\n",
            "Too high! Try again.\n",
            "Enter your guess:24\n",
            "Congratulations! You guessed the secret number 24 correctly in 5 attempts.\n"
          ]
        }
      ]
    },
    {
      "cell_type": "markdown",
      "source": [
        "**Student Grade Management System**\n",
        "\n",
        "Create a Python program that does the following:\n",
        "1. Create a list to store information about students\n",
        "\n",
        "2. Each student should be represented as a dictionary with the following keys:\n",
        "\n",
        " o name: The student's full name\n",
        "\n",
        " o id: A unique student ID number\n",
        "\n",
        " o grades: Another dictionary containing course names as keys and grades as\n",
        "values\n",
        "\n",
        "3. Your program should:  \n",
        "\n",
        " o Add at least 3 students to the list\n",
        "\n",
        " o Add grades for at least 3 courses for each student\n",
        "\n",
        " o Display all students with their grades\n",
        "\n",
        " o Calculate and display the average grade for each student\n",
        "\n",
        " o Find and display the student with the highest average grade\n",
        "\n",
        " o List all students with an average grade above 80\n",
        "\n",
        " o Calculate and display the average grade for a specific course\n",
        "\n",
        " o Add a new student to the system\n"
      ],
      "metadata": {
        "id": "xNFsp0OFAcgz"
      }
    },
    {
      "cell_type": "code",
      "source": [
        "# Step 1: Create a list to store student information\n",
        "students = [\n",
        "    {\n",
        "        \"name\": \"Alice Johnson\",\n",
        "        \"id\": 1,\n",
        "        \"grades\": {\n",
        "            \"Math\": 85,\n",
        "            \"Science\": 90,\n",
        "            \"English\": 78\n",
        "        }\n",
        "    },\n",
        "    {\n",
        "        \"name\": \"Bob Smith\",\n",
        "        \"id\": 2,\n",
        "        \"grades\": {\n",
        "            \"Math\": 92,\n",
        "            \"Science\": 88,\n",
        "            \"English\": 95\n",
        "        }\n",
        "    },\n",
        "    {\n",
        "        \"name\": \"Charlie Brown\",\n",
        "        \"id\": 3,\n",
        "        \"grades\": {\n",
        "            \"Math\": 74,\n",
        "            \"Science\": 81,\n",
        "            \"English\": 69\n",
        "        }\n",
        "    }\n",
        "]\n",
        "\n",
        "# Step 2: Display all students with their grades\n",
        "print(\"\\nAll Students and Their Grades:\")\n",
        "for student in students:\n",
        "    print(f\"Name: {student['name']}, ID: {student['id']}, Grades: {student['grades']}\")\n",
        "\n",
        "# Step 3: Calculate and display the average grade for each student\n",
        "print(\"\\nAverage Grades for Each student:\")\n",
        "for student in students:\n",
        "    grades = student['grades'].values()\n",
        "    avg = sum(grades) / len(grades)\n",
        "    print(f\"Name: {student['name']}, Average Grade: {round(avg, 2)}\")\n",
        "\n",
        "# Step 4: Find and display the student with the highest average grade\n",
        "top_student = None\n",
        "highest_avg = 0  # Variable name changed for clarity\n",
        "\n",
        "for student in students:\n",
        "    grades = student['grades'].values()\n",
        "    avg = sum(grades) / len(grades)\n",
        "    if avg > highest_avg:\n",
        "        highest_avg = avg\n",
        "        top_student = student  # Moved inside the if-block to fix the bug\n",
        "\n",
        "print(f\"\\nTop Student: {top_student['name']} with Average Grade: {round(highest_avg, 2)}\")\n",
        "\n",
        "# Step 5: List all students with an average grade above 80\n",
        "print(\"\\nStudents with Average Grade Above 80:\")\n",
        "for student in students:\n",
        "    grades = student['grades'].values()\n",
        "    avg = sum(grades) / len(grades)\n",
        "    if avg > 80:\n",
        "        print(f\"Name: {student['name']} - Average Grade: {round(avg, 2)}\")\n",
        "\n",
        "# Step 6: Calculate and display the average grade for a specific course\n",
        "course_name = \"Math\"\n",
        "total = 0\n",
        "count = 0\n",
        "\n",
        "for student in students:\n",
        "    if course_name in student['grades']:\n",
        "        total += student['grades'][course_name]\n",
        "        count += 1\n",
        "\n",
        "if count > 0:\n",
        "    course_avg = total / count\n",
        "    print(f\"\\nAverage Grade for {course_name}: {round(course_avg, 2)}\")\n",
        "else:\n",
        "    print(f\"\\nNo data found for course: {course_name}\")\n",
        "\n",
        "# Step 7: Add a new student to the system\n",
        "new_student = {\n",
        "    \"name\": \"Diana Green\",\n",
        "    \"id\": 4,\n",
        "    \"grades\": {\n",
        "        \"Math\": 88,\n",
        "        \"Science\": 79,\n",
        "        \"English\": 92\n",
        "    }\n",
        "}\n",
        "\n",
        "students.append(new_student)\n",
        "\n",
        "print(f\"\\nNew Student {new_student['name']} added successfully!\")\n",
        "\n",
        "# Final display of all students data\n",
        "print(\"\\nUpdated Student List:\")\n",
        "for student in students:\n",
        "    print(f\"Name: {student['name']}, ID: {student['id']}, Grades: {student['grades']}\")\n",
        "\n"
      ],
      "metadata": {
        "id": "sdoBLgP9MjXY",
        "colab": {
          "base_uri": "https://localhost:8080/"
        },
        "outputId": "39637b20-c556-4469-8c7c-96b49d01cfd7"
      },
      "execution_count": null,
      "outputs": [
        {
          "output_type": "stream",
          "name": "stdout",
          "text": [
            "\n",
            "All Students and Their Grades:\n",
            "Name: Alice Johnson, ID: 1, Grades: {'Math': 85, 'Science': 90, 'English': 78}\n",
            "Name: Bob Smith, ID: 2, Grades: {'Math': 92, 'Science': 88, 'English': 95}\n",
            "Name: Charlie Brown, ID: 3, Grades: {'Math': 74, 'Science': 81, 'English': 69}\n",
            "\n",
            "Average Grades for Each student:\n",
            "Name: Alice Johnson, Average Grade: 84.33\n",
            "Name: Bob Smith, Average Grade: 91.67\n",
            "Name: Charlie Brown, Average Grade: 74.67\n",
            "\n",
            "Top Student: Bob Smith with Average Grade: 91.67\n",
            "\n",
            "Students with Average Grade Above 80:\n",
            "Name: Alice Johnson - Average Grade: 84.33\n",
            "Name: Bob Smith - Average Grade: 91.67\n",
            "\n",
            "Average Grade for Math: 83.67\n",
            "\n",
            "New Student Diana Green added successfully!\n",
            "\n",
            "Updated Student List:\n",
            "Name: Alice Johnson, ID: 1, Grades: {'Math': 85, 'Science': 90, 'English': 78}\n",
            "Name: Bob Smith, ID: 2, Grades: {'Math': 92, 'Science': 88, 'English': 95}\n",
            "Name: Charlie Brown, ID: 3, Grades: {'Math': 74, 'Science': 81, 'English': 69}\n",
            "Name: Diana Green, ID: 4, Grades: {'Math': 88, 'Science': 79, 'English': 92}\n"
          ]
        }
      ]
    }
  ]
}